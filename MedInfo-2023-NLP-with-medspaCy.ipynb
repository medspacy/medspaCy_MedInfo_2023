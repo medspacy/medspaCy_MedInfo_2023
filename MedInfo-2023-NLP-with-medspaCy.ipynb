{
 "cells": [
  {
   "cell_type": "markdown",
   "id": "aa585b88",
   "metadata": {
    "pycharm": {
     "name": "#%% md\n"
    }
   },
   "source": [
    "# NLP with medspaCy\n",
    "\n",
    "<a target=\"_blank\" href=\"https://colab.research.google.com/github/https://colab.research.google.com/github/medspacy/medspaCy_MedInfo_2023/blob/main/MedInfo-2023-NLP-with-medspaCy.ipynb\">\n",
    "  <img src=\"https://colab.research.google.com/assets/colab-badge.svg\" alt=\"Open In Colab\"/>\n",
    "</a>\n",
    "\n",
    "This notebook offers a brief tutorial for using medspaCy for clinical NLP. While this will just offer a high-level crash course, there are lots of other materials available for learning how to use medspaCy. For a list of resources, checkout the [medspaCy repository](https://github.com/medspacy/medspacy) on GitHub and the [MedInfo 2023 repository](https://github.com/medspacy/medspaCy_MedInfo_2023) that accompanies this tutorial.\n",
    "\n",
    "\n",
    "## Overview of medspacy\n",
    "<img alt=\"MedSpaCy logo\" src=\"https://github.com/medspacy/medspacy/raw/master/images/medspacy_logo.png\">\n",
    "\n",
    "\n",
    "[`medspaCy`](https://github.com/medspacy/medspacy) is an open-source package maintained by NLP developers at the University of Utah and the US Department of Veterans Affairs. It's built using the popular [spaCy](https://spacy.io/) library and is specifically designed for working with clinical notes. \n",
    "\n",
    "The goal of medSpaCy is to provide flexible, easy-to-use spaCy components for common clinical NLP tasks, such as:\n",
    "\n",
    "- Concept extraction\n",
    "- Negation detection\n",
    "- Document section splitting\n",
    "\n",
    "Here are a couple of papers that used medspaCy:\n",
    "\n",
    "- [Launching into clinical space with medspaCy: a new clinical text processing toolkit in Python\n",
    "](https://www.ncbi.nlm.nih.gov/pmc/articles/PMC8861690/)\n",
    "- [A Natural Language Processing System for National\n",
    "COVID-19 Surveillance in the US Department of Veterans Affairs](https://aclanthology.org/2020.nlpcovid19-acl.10.pdf)\n",
    "- [ReHouSED: A novel measurement of Veteran housing stability using natural language processing](https://www.sciencedirect.com/science/article/pii/S153204642100232X?via%3Dihub)\n",
    "- [Assessing mortality prediction through different representation models based on concepts extracted from clinical notes](https://arxiv.org/pdf/2207.10872.pdf)\n",
    "- [A Study into patient similarity through representation learning from medical\n",
    "records ](https://arxiv.org/pdf/2104.14229.pdf)\n",
    "\n",
    "## Outline\n",
    "This notebook will provide a crash course for building an NLP model and processing a clinical note using medspaCy. We'll walk through the basic steps of clinical text extraction.\n",
    "\n",
    "\n",
    "1. Getting started\n",
    "2. Tokenization and sentence splitting\n",
    "3. Entity extraction\n",
    "4. Attribute detection\n",
    "5. Output"
   ]
  },
  {
   "cell_type": "markdown",
   "id": "3a26be2b",
   "metadata": {
    "pycharm": {
     "name": "#%% md\n"
    }
   },
   "source": [
    "# 1. Getting started\n",
    "## Installing medspaCy\n",
    "We'll start by installing medspaCy using `pip`. medspaCy has a lot of requirements, so installation might take a couple of minutes."
   ]
  },
  {
   "cell_type": "code",
   "execution_count": 1,
   "id": "2357d2fe",
   "metadata": {
    "pycharm": {
     "name": "#%%\n"
    }
   },
   "outputs": [
    {
     "name": "stdout",
     "output_type": "stream",
     "text": [
      "Requirement already satisfied: medspacy==1.1.2 in /Users/alecchapman/opt/miniconda3/envs/medinfo2023/lib/python3.9/site-packages (1.1.2)\n",
      "Requirement already satisfied: spacy<4.0,>=3.4.1 in /Users/alecchapman/opt/miniconda3/envs/medinfo2023/lib/python3.9/site-packages (from medspacy==1.1.2) (3.5.3)\n",
      "Requirement already satisfied: PyRuSH>=1.0.8 in /Users/alecchapman/opt/miniconda3/envs/medinfo2023/lib/python3.9/site-packages (from medspacy==1.1.2) (1.0.8)\n",
      "Requirement already satisfied: pysbd==0.3.4 in /Users/alecchapman/opt/miniconda3/envs/medinfo2023/lib/python3.9/site-packages (from medspacy==1.1.2) (0.3.4)\n",
      "Requirement already satisfied: jsonschema in /Users/alecchapman/opt/miniconda3/envs/medinfo2023/lib/python3.9/site-packages (from medspacy==1.1.2) (4.17.3)\n",
      "Requirement already satisfied: medspacy-quickumls==3.0 in /Users/alecchapman/opt/miniconda3/envs/medinfo2023/lib/python3.9/site-packages (from medspacy==1.1.2) (3.0)\n",
      "Requirement already satisfied: numpy>=1.8.2 in /Users/alecchapman/opt/miniconda3/envs/medinfo2023/lib/python3.9/site-packages (from medspacy-quickumls==3.0->medspacy==1.1.2) (1.25.0)\n",
      "Requirement already satisfied: unidecode>=0.4.19 in /Users/alecchapman/opt/miniconda3/envs/medinfo2023/lib/python3.9/site-packages (from medspacy-quickumls==3.0->medspacy==1.1.2) (1.3.6)\n",
      "Requirement already satisfied: nltk>=3.3 in /Users/alecchapman/opt/miniconda3/envs/medinfo2023/lib/python3.9/site-packages (from medspacy-quickumls==3.0->medspacy==1.1.2) (3.8.1)\n",
      "Requirement already satisfied: pysimstring in /Users/alecchapman/opt/miniconda3/envs/medinfo2023/lib/python3.9/site-packages (from medspacy-quickumls==3.0->medspacy==1.1.2) (1.2.1)\n",
      "Requirement already satisfied: unqlite>=0.8.1 in /Users/alecchapman/opt/miniconda3/envs/medinfo2023/lib/python3.9/site-packages (from medspacy-quickumls==3.0->medspacy==1.1.2) (0.9.3)\n",
      "Requirement already satisfied: pytest>=6 in /Users/alecchapman/opt/miniconda3/envs/medinfo2023/lib/python3.9/site-packages (from medspacy-quickumls==3.0->medspacy==1.1.2) (7.4.0)\n",
      "Requirement already satisfied: six in /Users/alecchapman/opt/miniconda3/envs/medinfo2023/lib/python3.9/site-packages (from medspacy-quickumls==3.0->medspacy==1.1.2) (1.16.0)\n",
      "Requirement already satisfied: Cython<3.0,>=0.25 in /Users/alecchapman/opt/miniconda3/envs/medinfo2023/lib/python3.9/site-packages (from PyRuSH>=1.0.8->medspacy==1.1.2) (0.29.35)\n",
      "Requirement already satisfied: setuptools in /Users/alecchapman/opt/miniconda3/envs/medinfo2023/lib/python3.9/site-packages (from PyRuSH>=1.0.8->medspacy==1.1.2) (67.8.0)\n",
      "Requirement already satisfied: PyFastNER>=1.0.8 in /Users/alecchapman/opt/miniconda3/envs/medinfo2023/lib/python3.9/site-packages (from PyRuSH>=1.0.8->medspacy==1.1.2) (1.0.9)\n",
      "Requirement already satisfied: quicksectx>=0.3.5 in /Users/alecchapman/opt/miniconda3/envs/medinfo2023/lib/python3.9/site-packages (from PyRuSH>=1.0.8->medspacy==1.1.2) (0.3.5)\n",
      "Requirement already satisfied: spacy-legacy<3.1.0,>=3.0.11 in /Users/alecchapman/opt/miniconda3/envs/medinfo2023/lib/python3.9/site-packages (from spacy<4.0,>=3.4.1->medspacy==1.1.2) (3.0.12)\n",
      "Requirement already satisfied: spacy-loggers<2.0.0,>=1.0.0 in /Users/alecchapman/opt/miniconda3/envs/medinfo2023/lib/python3.9/site-packages (from spacy<4.0,>=3.4.1->medspacy==1.1.2) (1.0.4)\n",
      "Requirement already satisfied: murmurhash<1.1.0,>=0.28.0 in /Users/alecchapman/opt/miniconda3/envs/medinfo2023/lib/python3.9/site-packages (from spacy<4.0,>=3.4.1->medspacy==1.1.2) (1.0.9)\n",
      "Requirement already satisfied: cymem<2.1.0,>=2.0.2 in /Users/alecchapman/opt/miniconda3/envs/medinfo2023/lib/python3.9/site-packages (from spacy<4.0,>=3.4.1->medspacy==1.1.2) (2.0.7)\n",
      "Requirement already satisfied: preshed<3.1.0,>=3.0.2 in /Users/alecchapman/opt/miniconda3/envs/medinfo2023/lib/python3.9/site-packages (from spacy<4.0,>=3.4.1->medspacy==1.1.2) (3.0.8)\n",
      "Requirement already satisfied: thinc<8.2.0,>=8.1.8 in /Users/alecchapman/opt/miniconda3/envs/medinfo2023/lib/python3.9/site-packages (from spacy<4.0,>=3.4.1->medspacy==1.1.2) (8.1.10)\n",
      "Requirement already satisfied: wasabi<1.2.0,>=0.9.1 in /Users/alecchapman/opt/miniconda3/envs/medinfo2023/lib/python3.9/site-packages (from spacy<4.0,>=3.4.1->medspacy==1.1.2) (1.1.2)\n",
      "Requirement already satisfied: srsly<3.0.0,>=2.4.3 in /Users/alecchapman/opt/miniconda3/envs/medinfo2023/lib/python3.9/site-packages (from spacy<4.0,>=3.4.1->medspacy==1.1.2) (2.4.6)\n",
      "Requirement already satisfied: catalogue<2.1.0,>=2.0.6 in /Users/alecchapman/opt/miniconda3/envs/medinfo2023/lib/python3.9/site-packages (from spacy<4.0,>=3.4.1->medspacy==1.1.2) (2.0.8)\n",
      "Requirement already satisfied: typer<0.8.0,>=0.3.0 in /Users/alecchapman/opt/miniconda3/envs/medinfo2023/lib/python3.9/site-packages (from spacy<4.0,>=3.4.1->medspacy==1.1.2) (0.7.0)\n",
      "Requirement already satisfied: pathy>=0.10.0 in /Users/alecchapman/opt/miniconda3/envs/medinfo2023/lib/python3.9/site-packages (from spacy<4.0,>=3.4.1->medspacy==1.1.2) (0.10.2)\n",
      "Requirement already satisfied: smart-open<7.0.0,>=5.2.1 in /Users/alecchapman/opt/miniconda3/envs/medinfo2023/lib/python3.9/site-packages (from spacy<4.0,>=3.4.1->medspacy==1.1.2) (6.3.0)\n",
      "Requirement already satisfied: tqdm<5.0.0,>=4.38.0 in /Users/alecchapman/opt/miniconda3/envs/medinfo2023/lib/python3.9/site-packages (from spacy<4.0,>=3.4.1->medspacy==1.1.2) (4.65.0)\n",
      "Requirement already satisfied: requests<3.0.0,>=2.13.0 in /Users/alecchapman/opt/miniconda3/envs/medinfo2023/lib/python3.9/site-packages (from spacy<4.0,>=3.4.1->medspacy==1.1.2) (2.31.0)\n",
      "Requirement already satisfied: pydantic!=1.8,!=1.8.1,<1.11.0,>=1.7.4 in /Users/alecchapman/opt/miniconda3/envs/medinfo2023/lib/python3.9/site-packages (from spacy<4.0,>=3.4.1->medspacy==1.1.2) (1.10.9)\n",
      "Requirement already satisfied: jinja2 in /Users/alecchapman/opt/miniconda3/envs/medinfo2023/lib/python3.9/site-packages (from spacy<4.0,>=3.4.1->medspacy==1.1.2) (3.1.2)\n",
      "Requirement already satisfied: packaging>=20.0 in /Users/alecchapman/opt/miniconda3/envs/medinfo2023/lib/python3.9/site-packages (from spacy<4.0,>=3.4.1->medspacy==1.1.2) (23.1)\n",
      "Requirement already satisfied: langcodes<4.0.0,>=3.2.0 in /Users/alecchapman/opt/miniconda3/envs/medinfo2023/lib/python3.9/site-packages (from spacy<4.0,>=3.4.1->medspacy==1.1.2) (3.3.0)\n",
      "Requirement already satisfied: attrs>=17.4.0 in /Users/alecchapman/opt/miniconda3/envs/medinfo2023/lib/python3.9/site-packages (from jsonschema->medspacy==1.1.2) (23.1.0)\n",
      "Requirement already satisfied: pyrsistent!=0.17.0,!=0.17.1,!=0.17.2,>=0.14.0 in /Users/alecchapman/opt/miniconda3/envs/medinfo2023/lib/python3.9/site-packages (from jsonschema->medspacy==1.1.2) (0.19.3)\n",
      "Requirement already satisfied: click in /Users/alecchapman/opt/miniconda3/envs/medinfo2023/lib/python3.9/site-packages (from nltk>=3.3->medspacy-quickumls==3.0->medspacy==1.1.2) (8.1.3)\n",
      "Requirement already satisfied: joblib in /Users/alecchapman/opt/miniconda3/envs/medinfo2023/lib/python3.9/site-packages (from nltk>=3.3->medspacy-quickumls==3.0->medspacy==1.1.2) (1.2.0)\n",
      "Requirement already satisfied: regex>=2021.8.3 in /Users/alecchapman/opt/miniconda3/envs/medinfo2023/lib/python3.9/site-packages (from nltk>=3.3->medspacy-quickumls==3.0->medspacy==1.1.2) (2023.6.3)\n",
      "Requirement already satisfied: typing-extensions>=4.2.0 in /Users/alecchapman/opt/miniconda3/envs/medinfo2023/lib/python3.9/site-packages (from pydantic!=1.8,!=1.8.1,<1.11.0,>=1.7.4->spacy<4.0,>=3.4.1->medspacy==1.1.2) (4.6.3)\n",
      "Requirement already satisfied: iniconfig in /Users/alecchapman/opt/miniconda3/envs/medinfo2023/lib/python3.9/site-packages (from pytest>=6->medspacy-quickumls==3.0->medspacy==1.1.2) (2.0.0)\n",
      "Requirement already satisfied: pluggy<2.0,>=0.12 in /Users/alecchapman/opt/miniconda3/envs/medinfo2023/lib/python3.9/site-packages (from pytest>=6->medspacy-quickumls==3.0->medspacy==1.1.2) (1.2.0)\n",
      "Requirement already satisfied: exceptiongroup>=1.0.0rc8 in /Users/alecchapman/opt/miniconda3/envs/medinfo2023/lib/python3.9/site-packages (from pytest>=6->medspacy-quickumls==3.0->medspacy==1.1.2) (1.1.1)\n",
      "Requirement already satisfied: tomli>=1.0.0 in /Users/alecchapman/opt/miniconda3/envs/medinfo2023/lib/python3.9/site-packages (from pytest>=6->medspacy-quickumls==3.0->medspacy==1.1.2) (2.0.1)\n",
      "Requirement already satisfied: charset-normalizer<4,>=2 in /Users/alecchapman/opt/miniconda3/envs/medinfo2023/lib/python3.9/site-packages (from requests<3.0.0,>=2.13.0->spacy<4.0,>=3.4.1->medspacy==1.1.2) (3.1.0)\n",
      "Requirement already satisfied: idna<4,>=2.5 in /Users/alecchapman/opt/miniconda3/envs/medinfo2023/lib/python3.9/site-packages (from requests<3.0.0,>=2.13.0->spacy<4.0,>=3.4.1->medspacy==1.1.2) (3.4)\n",
      "Requirement already satisfied: urllib3<3,>=1.21.1 in /Users/alecchapman/opt/miniconda3/envs/medinfo2023/lib/python3.9/site-packages (from requests<3.0.0,>=2.13.0->spacy<4.0,>=3.4.1->medspacy==1.1.2) (2.0.3)\n",
      "Requirement already satisfied: certifi>=2017.4.17 in /Users/alecchapman/opt/miniconda3/envs/medinfo2023/lib/python3.9/site-packages (from requests<3.0.0,>=2.13.0->spacy<4.0,>=3.4.1->medspacy==1.1.2) (2023.5.7)\n"
     ]
    },
    {
     "name": "stdout",
     "output_type": "stream",
     "text": [
      "Requirement already satisfied: blis<0.8.0,>=0.7.8 in /Users/alecchapman/opt/miniconda3/envs/medinfo2023/lib/python3.9/site-packages (from thinc<8.2.0,>=8.1.8->spacy<4.0,>=3.4.1->medspacy==1.1.2) (0.7.9)\n",
      "Requirement already satisfied: confection<1.0.0,>=0.0.1 in /Users/alecchapman/opt/miniconda3/envs/medinfo2023/lib/python3.9/site-packages (from thinc<8.2.0,>=8.1.8->spacy<4.0,>=3.4.1->medspacy==1.1.2) (0.0.4)\n",
      "Requirement already satisfied: MarkupSafe>=2.0 in /Users/alecchapman/opt/miniconda3/envs/medinfo2023/lib/python3.9/site-packages (from jinja2->spacy<4.0,>=3.4.1->medspacy==1.1.2) (2.1.3)\n"
     ]
    }
   ],
   "source": [
    "!pip install medspacy==1.1.2"
   ]
  },
  {
   "cell_type": "code",
   "execution_count": 2,
   "id": "7722f383",
   "metadata": {
    "pycharm": {
     "name": "#%%\n"
    }
   },
   "outputs": [],
   "source": [
    "import medspacy"
   ]
  },
  {
   "cell_type": "markdown",
   "id": "c96298d5",
   "metadata": {
    "pycharm": {
     "name": "#%% md\n"
    }
   },
   "source": [
    "## Loading an `nlp` object\n",
    "The simplest way to create a model in medspaCy is `medspaCy.load()`. This is a spaCy `English` class (see spaCy's documentation for more information about language objects). "
   ]
  },
  {
   "cell_type": "code",
   "execution_count": 3,
   "id": "0af05daa",
   "metadata": {
    "pycharm": {
     "name": "#%%\n"
    }
   },
   "outputs": [],
   "source": [
    "nlp = medspacy.load()"
   ]
  },
  {
   "cell_type": "markdown",
   "id": "81378554",
   "metadata": {
    "pycharm": {
     "name": "#%% md\n"
    }
   },
   "source": [
    "The `nlp` object is spaCy's implementation of a processing pipeline. It contains several *components* that each perform a different step of processing to the document. By default, `medspacy.load()` loads a pipeline with the following four components, which we can then add to later.\n",
    "![medspacy pipeline](https://github.com/medspacy/medspaCy_MedInfo_2023/blob/main/images/medspacy-pipeline.png?raw=true)\n",
    "\n",
    "We can check what components are included in a pipeline by looking at the `pipe_names` attribute:"
   ]
  },
  {
   "cell_type": "code",
   "execution_count": 4,
   "id": "1df8582e",
   "metadata": {
    "pycharm": {
     "name": "#%%\n"
    }
   },
   "outputs": [
    {
     "data": {
      "text/plain": [
       "['medspacy_pyrush', 'medspacy_target_matcher', 'medspacy_context']"
      ]
     },
     "execution_count": 4,
     "metadata": {},
     "output_type": "execute_result"
    }
   ],
   "source": [
    "nlp.pipe_names"
   ]
  },
  {
   "cell_type": "markdown",
   "id": "0a98bd10",
   "metadata": {
    "pycharm": {
     "name": "#%% md\n"
    }
   },
   "source": [
    "You can also build models in other languages. For example, the next few cells will create a German spaCy model which we can then pass into `medspacy.load()` (although other components will need additional customization):"
   ]
  },
  {
   "cell_type": "code",
   "execution_count": 5,
   "id": "2fbf9fbe",
   "metadata": {
    "pycharm": {
     "name": "#%%\n"
    }
   },
   "outputs": [],
   "source": [
    "import spacy\n",
    "nlp_de = spacy.blank(\"de\")"
   ]
  },
  {
   "cell_type": "code",
   "execution_count": 6,
   "id": "1ab90362",
   "metadata": {
    "pycharm": {
     "name": "#%%\n"
    }
   },
   "outputs": [],
   "source": [
    "nlp_de = medspacy.load(nlp_de, load_rules=False) # Disable default rules"
   ]
  },
  {
   "cell_type": "code",
   "execution_count": 7,
   "id": "769d1332",
   "metadata": {
    "pycharm": {
     "name": "#%%\n"
    }
   },
   "outputs": [
    {
     "data": {
      "text/plain": [
       "<spacy.lang.de.German at 0x7fec39b827f0>"
      ]
     },
     "execution_count": 7,
     "metadata": {},
     "output_type": "execute_result"
    }
   ],
   "source": [
    "nlp_de"
   ]
  },
  {
   "cell_type": "code",
   "execution_count": 8,
   "id": "309c0b96",
   "metadata": {
    "pycharm": {
     "name": "#%%\n"
    }
   },
   "outputs": [
    {
     "data": {
      "text/plain": [
       "['medspacy_pyrush', 'medspacy_target_matcher', 'medspacy_context']"
      ]
     },
     "execution_count": 8,
     "metadata": {},
     "output_type": "execute_result"
    }
   ],
   "source": [
    "nlp_de.pipe_names"
   ]
  },
  {
   "cell_type": "markdown",
   "id": "274cd42b",
   "metadata": {
    "pycharm": {
     "name": "#%% md\n"
    }
   },
   "source": [
    "## Processing a clinical note"
   ]
  },
  {
   "cell_type": "markdown",
   "id": "1d494ad4",
   "metadata": {
    "pycharm": {
     "name": "#%% md\n"
    }
   },
   "source": [
    "Throughout this notebook, we'll use as an example a chest imaging report for a patient with possible pneumonia due to a recent Covid-19 infection:"
   ]
  },
  {
   "cell_type": "code",
   "execution_count": 9,
   "id": "cac6fb5c",
   "metadata": {
    "pycharm": {
     "name": "#%%\n"
    }
   },
   "outputs": [],
   "source": [
    "text = (\"Patient with history of Covid-19 diagnosis; presenting with SOB. \"\n",
    "          \"Chest image shows no ground glass opacities or evidence of pneumonia. \")"
   ]
  },
  {
   "cell_type": "markdown",
   "id": "220fb711",
   "metadata": {
    "pycharm": {
     "name": "#%% md\n"
    }
   },
   "source": [
    "To process a clinical note with the NLP, we create a `doc` object. This `doc` object is what we will be working with for the rest of the notebook."
   ]
  },
  {
   "cell_type": "code",
   "execution_count": 10,
   "id": "5d977aa7",
   "metadata": {
    "pycharm": {
     "name": "#%%\n"
    }
   },
   "outputs": [
    {
     "name": "stdout",
     "output_type": "stream",
     "text": [
      "Patient with history of Covid-19 diagnosis; presenting with SOB. Chest image shows no ground glass opacities or evidence of pneumonia. \n"
     ]
    }
   ],
   "source": [
    "doc = nlp(text)\n",
    "print(doc)"
   ]
  },
  {
   "cell_type": "code",
   "execution_count": 11,
   "id": "6fe3e6f3",
   "metadata": {
    "pycharm": {
     "name": "#%%\n"
    }
   },
   "outputs": [
    {
     "data": {
      "text/plain": [
       "spacy.tokens.doc.Doc"
      ]
     },
     "execution_count": 11,
     "metadata": {},
     "output_type": "execute_result"
    }
   ],
   "source": [
    "type(doc)"
   ]
  },
  {
   "cell_type": "code",
   "execution_count": null,
   "id": "9b7eb025",
   "metadata": {
    "pycharm": {
     "name": "#%%\n"
    }
   },
   "outputs": [],
   "source": []
  },
  {
   "cell_type": "markdown",
   "id": "c6f5d702",
   "metadata": {
    "pycharm": {
     "name": "#%% md\n"
    }
   },
   "source": [
    "# 2. Tokenization and sentence splitting\n",
    "So, what actually happens when we create a `Doc` object?"
   ]
  },
  {
   "cell_type": "markdown",
   "id": "32efc683",
   "metadata": {
    "pycharm": {
     "name": "#%% md\n"
    }
   },
   "source": [
    "## Tokenization\n",
    "A `Token` is a single word, symbol, or whitespace in a `doc`. When we create a `doc` object, the text broken up into individual tokens. This is called **\"tokenization\"**, and this is the first step in the processing pipeline.\n",
    "\n",
    "We can access tokens by iterating through the doc or indexing."
   ]
  },
  {
   "cell_type": "code",
   "execution_count": 12,
   "id": "734931f4",
   "metadata": {
    "pycharm": {
     "name": "#%%\n"
    }
   },
   "outputs": [
    {
     "name": "stdout",
     "output_type": "stream",
     "text": [
      "history\n"
     ]
    }
   ],
   "source": [
    "token = doc[2]\n",
    "print(token)"
   ]
  },
  {
   "cell_type": "code",
   "execution_count": 13,
   "id": "d7e0b38b",
   "metadata": {
    "pycharm": {
     "name": "#%%\n"
    }
   },
   "outputs": [
    {
     "name": "stdout",
     "output_type": "stream",
     "text": [
      "Patient\n",
      "with\n",
      "history\n",
      "of\n",
      "Covid\n",
      "-\n",
      "19\n",
      "diagnosis\n",
      ";\n",
      "presenting\n",
      "with\n",
      "SOB\n",
      ".\n",
      "Chest\n",
      "image\n",
      "shows\n",
      "no\n",
      "ground\n",
      "glass\n",
      "opacities\n",
      "or\n",
      "evidence\n",
      "of\n",
      "pneumonia\n",
      ".\n"
     ]
    }
   ],
   "source": [
    "for token in doc:\n",
    "    print(token)"
   ]
  },
  {
   "cell_type": "code",
   "execution_count": null,
   "id": "f8e73a6b",
   "metadata": {
    "pycharm": {
     "name": "#%%\n"
    }
   },
   "outputs": [],
   "source": []
  },
  {
   "cell_type": "markdown",
   "id": "afc84ad9",
   "metadata": {
    "pycharm": {
     "name": "#%% md\n"
    }
   },
   "source": [
    "## Sentence splitting\n",
    "While tokenization splits the text up into atomic tokens, we will also need to work with longer units of text. In spaCy, these are called `Span`'s. One example of a span is a sentence. After tokenizing, our NLP pipeline next splits the document up into separate sentences."
   ]
  },
  {
   "cell_type": "code",
   "execution_count": 14,
   "id": "ad2680b6",
   "metadata": {
    "pycharm": {
     "name": "#%%\n"
    }
   },
   "outputs": [
    {
     "name": "stdout",
     "output_type": "stream",
     "text": [
      "Patient with history of Covid-19 diagnosis; presenting with SOB.\n",
      "Chest image shows no ground glass opacities or evidence of pneumonia.\n"
     ]
    }
   ],
   "source": [
    "for sent in doc.sents:\n",
    "    print(sent)"
   ]
  },
  {
   "cell_type": "code",
   "execution_count": 15,
   "id": "732f8617",
   "metadata": {
    "pycharm": {
     "name": "#%%\n"
    }
   },
   "outputs": [
    {
     "data": {
      "text/plain": [
       "spacy.tokens.span.Span"
      ]
     },
     "execution_count": 15,
     "metadata": {},
     "output_type": "execute_result"
    }
   ],
   "source": [
    "type(sent)"
   ]
  },
  {
   "cell_type": "markdown",
   "id": "8b5f5874",
   "metadata": {
    "pycharm": {
     "name": "#%% md\n"
    }
   },
   "source": [
    "Each sentence is made up of individual tokens, just like the doc:"
   ]
  },
  {
   "cell_type": "code",
   "execution_count": 16,
   "id": "d489dd2d",
   "metadata": {
    "pycharm": {
     "name": "#%%\n"
    }
   },
   "outputs": [
    {
     "data": {
      "text/plain": [
       "Chest"
      ]
     },
     "execution_count": 16,
     "metadata": {},
     "output_type": "execute_result"
    }
   ],
   "source": [
    "sent[0]"
   ]
  },
  {
   "cell_type": "code",
   "execution_count": null,
   "id": "d66bba75",
   "metadata": {
    "pycharm": {
     "name": "#%%\n"
    }
   },
   "outputs": [],
   "source": []
  },
  {
   "cell_type": "markdown",
   "id": "45b142d7",
   "metadata": {
    "pycharm": {
     "name": "#%% md\n"
    }
   },
   "source": [
    "# 2. Entity extraction\n",
    "A common goal in clinical NLP is **entity extraction**, where we identify specific mentions of a concept in a note. Examples of concepts we might be interested in include diseases, signs/syptoms, or treatments. \n",
    "\n",
    "In our example document, a few concepts we might want to extract could be:\n",
    "\n",
    "- Clinical diagnoses such as **pneumonia** and **Covid-19**\n",
    "- Symptoms like **shortness of breath (SOB)**\n",
    "\n",
    "Common approaches to entity extraction in clinical NLP include machine learning NER or rule-based extraction. We'll focus here on rule-based extraction, although later on in the tutorial we'll see examples of combining rule-based with deep learning models.\n",
    "\n",
    "In medspaCy, we can specify concepts to extract using the `TargetMatcher` component. We access pipeline components by calling `nlp.get_pipe()` and passing in the name of the component:"
   ]
  },
  {
   "cell_type": "code",
   "execution_count": 17,
   "id": "48284a1b",
   "metadata": {
    "pycharm": {
     "name": "#%%\n"
    }
   },
   "outputs": [
    {
     "data": {
      "text/plain": [
       "<medspacy.target_matcher.target_matcher.TargetMatcher at 0x7fec28f0b1c0>"
      ]
     },
     "execution_count": 17,
     "metadata": {},
     "output_type": "execute_result"
    }
   ],
   "source": [
    "target_matcher = nlp.get_pipe(\"medspacy_target_matcher\")\n",
    "target_matcher"
   ]
  },
  {
   "cell_type": "markdown",
   "id": "5ed4eb8f",
   "metadata": {
    "pycharm": {
     "name": "#%% md\n"
    }
   },
   "source": [
    "We define concepts to extract using the `TargetRule` class. Each target rule takes the following arguments:\n",
    "- `literal`: The exact phrase we want to extract\n",
    "- `category`: The semantic category of the concept\n",
    "- `pattern` (optional): A flexible pattern for matching different strings of text. This can be either a [regular expression](https://www.w3schools.com/python/python_regex.asp) or a [spaCy rule-based matching pattern](https://spacy.io/usage/rule-based-matching)\n",
    "\n",
    "We'll write the following rules to extract concepts in our doc. (Note that all of the rules below are case insensitive.)"
   ]
  },
  {
   "cell_type": "code",
   "execution_count": 18,
   "id": "9396e331",
   "metadata": {
    "pycharm": {
     "name": "#%%\n"
    }
   },
   "outputs": [],
   "source": [
    "from medspacy.target_matcher import TargetRule"
   ]
  },
  {
   "cell_type": "code",
   "execution_count": 19,
   "id": "049f20f7",
   "metadata": {
    "pycharm": {
     "name": "#%%\n"
    }
   },
   "outputs": [],
   "source": [
    "rules = [\n",
    "    # This will match \"pneumonia\" and \"SOB\" exactly\n",
    "    TargetRule(\"pneumonia\", \"PNEUMONIA\"),\n",
    "    TargetRule(\"SOB\", \"SYMPTOM\"),\n",
    "    \n",
    "    # This uses a regular expression to match 'Covid-19' or 'covid19'\n",
    "    \n",
    "    # Match different forms of \"opacity\", with \"ground\" or \"glass\" as optional modifiers\n",
    "    TargetRule(\"Covid-19\", \"COVID\", pattern=\"covid\\-?19\"),\n",
    "    TargetRule(\"opacity\", \"PNEUMONIA\",\n",
    "              pattern=[\n",
    "                  {\"LOWER\": \"ground\", \"OP\": \"?\"},\n",
    "                  {\"LOWER\": \"glass\", \"OP\": \"?\"},\n",
    "                  {\"LOWER\": {\"IN\": [\"opacity\", \"opacities\"]}},\n",
    "                      ]\n",
    "              ),   \n",
    "]"
   ]
  },
  {
   "cell_type": "markdown",
   "id": "681a2f97",
   "metadata": {
    "pycharm": {
     "name": "#%% md\n"
    }
   },
   "source": [
    "We now add these rules to the pipeline:"
   ]
  },
  {
   "cell_type": "code",
   "execution_count": 20,
   "id": "80cfc71f",
   "metadata": {
    "pycharm": {
     "name": "#%%\n"
    }
   },
   "outputs": [],
   "source": [
    "target_matcher.add(rules)"
   ]
  },
  {
   "cell_type": "code",
   "execution_count": 21,
   "id": "a24fc3ef",
   "metadata": {
    "pycharm": {
     "name": "#%%\n"
    }
   },
   "outputs": [
    {
     "data": {
      "text/plain": [
       "[TargetRule(literal=\"pneumonia\", category=\"PNEUMONIA\", pattern=None, attributes=None, on_match=None),\n",
       " TargetRule(literal=\"SOB\", category=\"SYMPTOM\", pattern=None, attributes=None, on_match=None),\n",
       " TargetRule(literal=\"Covid-19\", category=\"COVID\", pattern=covid\\-?19, attributes=None, on_match=None),\n",
       " TargetRule(literal=\"opacity\", category=\"PNEUMONIA\", pattern=[{'LOWER': 'ground', 'OP': '?'}, {'LOWER': 'glass', 'OP': '?'}, {'LOWER': {'IN': ['opacity', 'opacities']}}], attributes=None, on_match=None)]"
      ]
     },
     "execution_count": 21,
     "metadata": {},
     "output_type": "execute_result"
    }
   ],
   "source": [
    "target_matcher.rules"
   ]
  },
  {
   "cell_type": "markdown",
   "id": "d52e8184",
   "metadata": {
    "pycharm": {
     "name": "#%% md\n"
    }
   },
   "source": [
    "Next, we'll reprocess the document so that it contains our new processing rules."
   ]
  },
  {
   "cell_type": "code",
   "execution_count": 22,
   "id": "c607b4c2",
   "metadata": {
    "pycharm": {
     "name": "#%%\n"
    }
   },
   "outputs": [],
   "source": [
    "doc = nlp(text)"
   ]
  },
  {
   "cell_type": "markdown",
   "id": "31b64855",
   "metadata": {
    "pycharm": {
     "name": "#%% md\n"
    }
   },
   "source": [
    "Extracted concepts are stored under `doc.ents`. Each entity is a spaCy `Span`. The semantic category is stored under `ent.label_`."
   ]
  },
  {
   "cell_type": "code",
   "execution_count": 23,
   "id": "9b9d6646",
   "metadata": {
    "pycharm": {
     "name": "#%%\n"
    }
   },
   "outputs": [
    {
     "name": "stdout",
     "output_type": "stream",
     "text": [
      "Covid-19 COVID\n",
      "SOB SYMPTOM\n",
      "ground glass opacities PNEUMONIA\n",
      "pneumonia PNEUMONIA\n"
     ]
    }
   ],
   "source": [
    "for ent in doc.ents:\n",
    "    print(ent, ent.label_)"
   ]
  },
  {
   "cell_type": "markdown",
   "id": "066dfcb2",
   "metadata": {
    "pycharm": {
     "name": "#%% md\n"
    }
   },
   "source": [
    "We can also visualize the entire document using medspaCy's visualization function, which will highlight the entities:"
   ]
  },
  {
   "cell_type": "code",
   "execution_count": 24,
   "id": "3b424cb9",
   "metadata": {
    "pycharm": {
     "name": "#%%\n"
    }
   },
   "outputs": [],
   "source": [
    "from medspacy.visualization import visualize_ent"
   ]
  },
  {
   "cell_type": "code",
   "execution_count": 25,
   "id": "c854efad",
   "metadata": {
    "pycharm": {
     "name": "#%%\n"
    }
   },
   "outputs": [
    {
     "data": {
      "text/html": [
       "<span class=\"tex2jax_ignore\"><div class=\"entities\" style=\"line-height: 2.5; direction: ltr\">Patient with history of \n",
       "<mark class=\"entity\" style=\"background: #1f77b4; padding: 0.45em 0.6em; margin: 0 0.25em; line-height: 1; border-radius: 0.35em;\">\n",
       "    Covid-19\n",
       "    <span style=\"font-size: 0.8em; font-weight: bold; line-height: 1; border-radius: 0.35em; vertical-align: middle; margin-left: 0.5rem\">COVID</span>\n",
       "</mark>\n",
       " diagnosis; presenting with \n",
       "<mark class=\"entity\" style=\"background: #2ca02c; padding: 0.45em 0.6em; margin: 0 0.25em; line-height: 1; border-radius: 0.35em;\">\n",
       "    SOB\n",
       "    <span style=\"font-size: 0.8em; font-weight: bold; line-height: 1; border-radius: 0.35em; vertical-align: middle; margin-left: 0.5rem\">SYMPTOM</span>\n",
       "</mark>\n",
       ". Chest image shows no \n",
       "<mark class=\"entity\" style=\"background: #ff7f0e; padding: 0.45em 0.6em; margin: 0 0.25em; line-height: 1; border-radius: 0.35em;\">\n",
       "    ground glass opacities\n",
       "    <span style=\"font-size: 0.8em; font-weight: bold; line-height: 1; border-radius: 0.35em; vertical-align: middle; margin-left: 0.5rem\">PNEUMONIA</span>\n",
       "</mark>\n",
       " or evidence of \n",
       "<mark class=\"entity\" style=\"background: #ff7f0e; padding: 0.45em 0.6em; margin: 0 0.25em; line-height: 1; border-radius: 0.35em;\">\n",
       "    pneumonia\n",
       "    <span style=\"font-size: 0.8em; font-weight: bold; line-height: 1; border-radius: 0.35em; vertical-align: middle; margin-left: 0.5rem\">PNEUMONIA</span>\n",
       "</mark>\n",
       ". </div></span>"
      ],
      "text/plain": [
       "<IPython.core.display.HTML object>"
      ]
     },
     "metadata": {},
     "output_type": "display_data"
    }
   ],
   "source": [
    "visualize_ent(doc, context=False)"
   ]
  },
  {
   "cell_type": "code",
   "execution_count": null,
   "id": "97154ec2",
   "metadata": {
    "pycharm": {
     "name": "#%%\n"
    }
   },
   "outputs": [],
   "source": []
  },
  {
   "cell_type": "markdown",
   "id": "cff291b5",
   "metadata": {
    "pycharm": {
     "name": "#%% md\n"
    }
   },
   "source": [
    "# 2. Attribute detection\n",
    "In the examples above we can see that medspaCy correctly extracted mentions of clinical concepts. However, just because concepts are mentioned in a note doesn't mean that the patient actually has the condition. For example, the note specifically says that **\"ground glass opacities\"** and **\"pneumonia\"** are not supported by the chest imaging report. To avoid false positives, we need to identify *attributes* such as negation or temporality.\n",
    "\n",
    "In medspaCy we do this using the `ConText` component and the `Sectionizer`.\n",
    "\n",
    "## ConText\n",
    "The [ConText algorithm](https://www.ncbi.nlm.nih.gov/pmc/articles/PMC2757457/) connects entities to nearby linguistic modifiers. We can visualize this using the `visualize_dep` function, which draws arrows from linguistic modifiers to entities."
   ]
  },
  {
   "cell_type": "code",
   "execution_count": 26,
   "id": "c352cfd8",
   "metadata": {
    "pycharm": {
     "name": "#%%\n"
    }
   },
   "outputs": [],
   "source": [
    "from medspacy.visualization import visualize_dep"
   ]
  },
  {
   "cell_type": "code",
   "execution_count": 27,
   "id": "32c4b329",
   "metadata": {
    "pycharm": {
     "name": "#%%\n"
    }
   },
   "outputs": [
    {
     "data": {
      "text/html": [
       "<span class=\"tex2jax_ignore\"><svg xmlns=\"http://www.w3.org/2000/svg\" xmlns:xlink=\"http://www.w3.org/1999/xlink\" xml:lang=\"en\" id=\"2de1372eabd240eca8402c80016e6f89-0\" class=\"displacy\" width=\"3725\" height=\"312.0\" direction=\"ltr\" style=\"max-width: none; height: 312.0px; color: #000000; background: #ffffff; font-family: Arial; direction: ltr\">\n",
       "<text class=\"displacy-token\" fill=\"currentColor\" text-anchor=\"middle\" y=\"222.0\">\n",
       "    <tspan class=\"displacy-word\" fill=\"currentColor\" x=\"50\">Patient</tspan>\n",
       "    <tspan class=\"displacy-tag\" dy=\"2em\" fill=\"currentColor\" x=\"50\"></tspan>\n",
       "</text>\n",
       "\n",
       "<text class=\"displacy-token\" fill=\"currentColor\" text-anchor=\"middle\" y=\"222.0\">\n",
       "    <tspan class=\"displacy-word\" fill=\"currentColor\" x=\"225\">with</tspan>\n",
       "    <tspan class=\"displacy-tag\" dy=\"2em\" fill=\"currentColor\" x=\"225\"></tspan>\n",
       "</text>\n",
       "\n",
       "<text class=\"displacy-token\" fill=\"currentColor\" text-anchor=\"middle\" y=\"222.0\">\n",
       "    <tspan class=\"displacy-word\" fill=\"currentColor\" x=\"400\">history</tspan>\n",
       "    <tspan class=\"displacy-tag\" dy=\"2em\" fill=\"currentColor\" x=\"400\">HISTORICAL</tspan>\n",
       "</text>\n",
       "\n",
       "<text class=\"displacy-token\" fill=\"currentColor\" text-anchor=\"middle\" y=\"222.0\">\n",
       "    <tspan class=\"displacy-word\" fill=\"currentColor\" x=\"575\">of</tspan>\n",
       "    <tspan class=\"displacy-tag\" dy=\"2em\" fill=\"currentColor\" x=\"575\"></tspan>\n",
       "</text>\n",
       "\n",
       "<text class=\"displacy-token\" fill=\"currentColor\" text-anchor=\"middle\" y=\"222.0\">\n",
       "    <tspan class=\"displacy-word\" fill=\"currentColor\" x=\"750\">Covid - 19</tspan>\n",
       "    <tspan class=\"displacy-tag\" dy=\"2em\" fill=\"currentColor\" x=\"750\">COVID</tspan>\n",
       "</text>\n",
       "\n",
       "<text class=\"displacy-token\" fill=\"currentColor\" text-anchor=\"middle\" y=\"222.0\">\n",
       "    <tspan class=\"displacy-word\" fill=\"currentColor\" x=\"925\">diagnosis</tspan>\n",
       "    <tspan class=\"displacy-tag\" dy=\"2em\" fill=\"currentColor\" x=\"925\"></tspan>\n",
       "</text>\n",
       "\n",
       "<text class=\"displacy-token\" fill=\"currentColor\" text-anchor=\"middle\" y=\"222.0\">\n",
       "    <tspan class=\"displacy-word\" fill=\"currentColor\" x=\"1100\">;</tspan>\n",
       "    <tspan class=\"displacy-tag\" dy=\"2em\" fill=\"currentColor\" x=\"1100\"></tspan>\n",
       "</text>\n",
       "\n",
       "<text class=\"displacy-token\" fill=\"currentColor\" text-anchor=\"middle\" y=\"222.0\">\n",
       "    <tspan class=\"displacy-word\" fill=\"currentColor\" x=\"1275\">presenting</tspan>\n",
       "    <tspan class=\"displacy-tag\" dy=\"2em\" fill=\"currentColor\" x=\"1275\"></tspan>\n",
       "</text>\n",
       "\n",
       "<text class=\"displacy-token\" fill=\"currentColor\" text-anchor=\"middle\" y=\"222.0\">\n",
       "    <tspan class=\"displacy-word\" fill=\"currentColor\" x=\"1450\">with</tspan>\n",
       "    <tspan class=\"displacy-tag\" dy=\"2em\" fill=\"currentColor\" x=\"1450\"></tspan>\n",
       "</text>\n",
       "\n",
       "<text class=\"displacy-token\" fill=\"currentColor\" text-anchor=\"middle\" y=\"222.0\">\n",
       "    <tspan class=\"displacy-word\" fill=\"currentColor\" x=\"1625\">SOB</tspan>\n",
       "    <tspan class=\"displacy-tag\" dy=\"2em\" fill=\"currentColor\" x=\"1625\">SYMPTOM</tspan>\n",
       "</text>\n",
       "\n",
       "<text class=\"displacy-token\" fill=\"currentColor\" text-anchor=\"middle\" y=\"222.0\">\n",
       "    <tspan class=\"displacy-word\" fill=\"currentColor\" x=\"1800\">.</tspan>\n",
       "    <tspan class=\"displacy-tag\" dy=\"2em\" fill=\"currentColor\" x=\"1800\"></tspan>\n",
       "</text>\n",
       "\n",
       "<text class=\"displacy-token\" fill=\"currentColor\" text-anchor=\"middle\" y=\"222.0\">\n",
       "    <tspan class=\"displacy-word\" fill=\"currentColor\" x=\"1975\">Chest</tspan>\n",
       "    <tspan class=\"displacy-tag\" dy=\"2em\" fill=\"currentColor\" x=\"1975\"></tspan>\n",
       "</text>\n",
       "\n",
       "<text class=\"displacy-token\" fill=\"currentColor\" text-anchor=\"middle\" y=\"222.0\">\n",
       "    <tspan class=\"displacy-word\" fill=\"currentColor\" x=\"2150\">image</tspan>\n",
       "    <tspan class=\"displacy-tag\" dy=\"2em\" fill=\"currentColor\" x=\"2150\"></tspan>\n",
       "</text>\n",
       "\n",
       "<text class=\"displacy-token\" fill=\"currentColor\" text-anchor=\"middle\" y=\"222.0\">\n",
       "    <tspan class=\"displacy-word\" fill=\"currentColor\" x=\"2325\">shows</tspan>\n",
       "    <tspan class=\"displacy-tag\" dy=\"2em\" fill=\"currentColor\" x=\"2325\"></tspan>\n",
       "</text>\n",
       "\n",
       "<text class=\"displacy-token\" fill=\"currentColor\" text-anchor=\"middle\" y=\"222.0\">\n",
       "    <tspan class=\"displacy-word\" fill=\"currentColor\" x=\"2500\">no</tspan>\n",
       "    <tspan class=\"displacy-tag\" dy=\"2em\" fill=\"currentColor\" x=\"2500\">NEGATED_EXISTENCE</tspan>\n",
       "</text>\n",
       "\n",
       "<text class=\"displacy-token\" fill=\"currentColor\" text-anchor=\"middle\" y=\"222.0\">\n",
       "    <tspan class=\"displacy-word\" fill=\"currentColor\" x=\"2675\">ground glass opacities</tspan>\n",
       "    <tspan class=\"displacy-tag\" dy=\"2em\" fill=\"currentColor\" x=\"2675\">PNEUMONIA</tspan>\n",
       "</text>\n",
       "\n",
       "<text class=\"displacy-token\" fill=\"currentColor\" text-anchor=\"middle\" y=\"222.0\">\n",
       "    <tspan class=\"displacy-word\" fill=\"currentColor\" x=\"2850\">or</tspan>\n",
       "    <tspan class=\"displacy-tag\" dy=\"2em\" fill=\"currentColor\" x=\"2850\"></tspan>\n",
       "</text>\n",
       "\n",
       "<text class=\"displacy-token\" fill=\"currentColor\" text-anchor=\"middle\" y=\"222.0\">\n",
       "    <tspan class=\"displacy-word\" fill=\"currentColor\" x=\"3025\">evidence</tspan>\n",
       "    <tspan class=\"displacy-tag\" dy=\"2em\" fill=\"currentColor\" x=\"3025\"></tspan>\n",
       "</text>\n",
       "\n",
       "<text class=\"displacy-token\" fill=\"currentColor\" text-anchor=\"middle\" y=\"222.0\">\n",
       "    <tspan class=\"displacy-word\" fill=\"currentColor\" x=\"3200\">of</tspan>\n",
       "    <tspan class=\"displacy-tag\" dy=\"2em\" fill=\"currentColor\" x=\"3200\"></tspan>\n",
       "</text>\n",
       "\n",
       "<text class=\"displacy-token\" fill=\"currentColor\" text-anchor=\"middle\" y=\"222.0\">\n",
       "    <tspan class=\"displacy-word\" fill=\"currentColor\" x=\"3375\">pneumonia</tspan>\n",
       "    <tspan class=\"displacy-tag\" dy=\"2em\" fill=\"currentColor\" x=\"3375\">PNEUMONIA</tspan>\n",
       "</text>\n",
       "\n",
       "<text class=\"displacy-token\" fill=\"currentColor\" text-anchor=\"middle\" y=\"222.0\">\n",
       "    <tspan class=\"displacy-word\" fill=\"currentColor\" x=\"3550\">.</tspan>\n",
       "    <tspan class=\"displacy-tag\" dy=\"2em\" fill=\"currentColor\" x=\"3550\"></tspan>\n",
       "</text>\n",
       "\n",
       "<g class=\"displacy-arrow\">\n",
       "    <path class=\"displacy-arc\" id=\"arrow-2de1372eabd240eca8402c80016e6f89-0-0\" stroke-width=\"2px\" d=\"M420,177.0 C420,89.5 745.0,89.5 745.0,177.0\" fill=\"none\" stroke=\"currentColor\"/>\n",
       "    <text dy=\"1.25em\" style=\"font-size: 0.8em; letter-spacing: 1px\">\n",
       "        <textPath xlink:href=\"#arrow-2de1372eabd240eca8402c80016e6f89-0-0\" class=\"displacy-label\" startOffset=\"50%\" side=\"left\" fill=\"currentColor\" text-anchor=\"middle\">HISTORICAL</textPath>\n",
       "    </text>\n",
       "    <path class=\"displacy-arrowhead\" d=\"M745.0,179.0 L753.0,167.0 737.0,167.0\" fill=\"currentColor\"/>\n",
       "</g>\n",
       "\n",
       "<g class=\"displacy-arrow\">\n",
       "    <path class=\"displacy-arc\" id=\"arrow-2de1372eabd240eca8402c80016e6f89-0-1\" stroke-width=\"2px\" d=\"M420,177.0 C420,2.0 1625.0,2.0 1625.0,177.0\" fill=\"none\" stroke=\"currentColor\"/>\n",
       "    <text dy=\"1.25em\" style=\"font-size: 0.8em; letter-spacing: 1px\">\n",
       "        <textPath xlink:href=\"#arrow-2de1372eabd240eca8402c80016e6f89-0-1\" class=\"displacy-label\" startOffset=\"50%\" side=\"left\" fill=\"currentColor\" text-anchor=\"middle\">HISTORICAL</textPath>\n",
       "    </text>\n",
       "    <path class=\"displacy-arrowhead\" d=\"M1625.0,179.0 L1633.0,167.0 1617.0,167.0\" fill=\"currentColor\"/>\n",
       "</g>\n",
       "\n",
       "<g class=\"displacy-arrow\">\n",
       "    <path class=\"displacy-arc\" id=\"arrow-2de1372eabd240eca8402c80016e6f89-0-2\" stroke-width=\"2px\" d=\"M2520,177.0 C2520,89.5 2670.0,89.5 2670.0,177.0\" fill=\"none\" stroke=\"currentColor\"/>\n",
       "    <text dy=\"1.25em\" style=\"font-size: 0.8em; letter-spacing: 1px\">\n",
       "        <textPath xlink:href=\"#arrow-2de1372eabd240eca8402c80016e6f89-0-2\" class=\"displacy-label\" startOffset=\"50%\" side=\"left\" fill=\"currentColor\" text-anchor=\"middle\">NEGATED_EXISTENCE</textPath>\n",
       "    </text>\n",
       "    <path class=\"displacy-arrowhead\" d=\"M2670.0,179.0 L2678.0,167.0 2662.0,167.0\" fill=\"currentColor\"/>\n",
       "</g>\n",
       "\n",
       "<g class=\"displacy-arrow\">\n",
       "    <path class=\"displacy-arc\" id=\"arrow-2de1372eabd240eca8402c80016e6f89-0-3\" stroke-width=\"2px\" d=\"M2520,177.0 C2520,2.0 3375.0,2.0 3375.0,177.0\" fill=\"none\" stroke=\"currentColor\"/>\n",
       "    <text dy=\"1.25em\" style=\"font-size: 0.8em; letter-spacing: 1px\">\n",
       "        <textPath xlink:href=\"#arrow-2de1372eabd240eca8402c80016e6f89-0-3\" class=\"displacy-label\" startOffset=\"50%\" side=\"left\" fill=\"currentColor\" text-anchor=\"middle\">NEGATED_EXISTENCE</textPath>\n",
       "    </text>\n",
       "    <path class=\"displacy-arrowhead\" d=\"M3375.0,179.0 L3383.0,167.0 3367.0,167.0\" fill=\"currentColor\"/>\n",
       "</g>\n",
       "</svg></span>"
      ],
      "text/plain": [
       "<IPython.core.display.HTML object>"
      ]
     },
     "metadata": {},
     "output_type": "display_data"
    }
   ],
   "source": [
    "visualize_dep(doc)"
   ]
  },
  {
   "cell_type": "markdown",
   "id": "84ca53d7",
   "metadata": {
    "pycharm": {
     "name": "#%% md\n"
    }
   },
   "source": [
    "In the example above, we can see that **\"Covid-19\"** is correctly modified by a **\"historical\"** modifier, and **\"ground glass opacities\"** and **\"pneumonia\"** are attached to the negation phrase. However, we can also see that **\"SOB\"** is incorrectly modified by the historical marker. To fix this, we can customize the context algorithm using `ConTextRule`'s. We'll add **\"presenting with\"** as a *current* modifier and add a *terminator* to block the negation from attaching to **\"SOB\"**. (See the [medspaCy notebooks](https://github.com/medspacy/medspacy/tree/master/notebooks) for more information on how to customize ConText.)"
   ]
  },
  {
   "cell_type": "code",
   "execution_count": 28,
   "id": "f0402464",
   "metadata": {
    "pycharm": {
     "name": "#%%\n"
    }
   },
   "outputs": [],
   "source": [
    "from medspacy.context import ConTextRule"
   ]
  },
  {
   "cell_type": "code",
   "execution_count": 29,
   "id": "82a46057",
   "metadata": {
    "pycharm": {
     "name": "#%%\n"
    }
   },
   "outputs": [],
   "source": [
    "context_rules = [\n",
    "    ConTextRule(\"presenting with\", \"CURRENT\", direction=\"FORWARD\"),\n",
    "    ConTextRule(\";\", \"TERMINATE\", direction=\"TERMINATE\"),\n",
    "                ]"
   ]
  },
  {
   "cell_type": "code",
   "execution_count": 30,
   "id": "95cdc652",
   "metadata": {
    "pycharm": {
     "name": "#%%\n"
    }
   },
   "outputs": [],
   "source": [
    "context = nlp.get_pipe(\"medspacy_context\")\n",
    "context.add(context_rules)"
   ]
  },
  {
   "cell_type": "code",
   "execution_count": 31,
   "id": "124309ad",
   "metadata": {
    "pycharm": {
     "name": "#%%\n"
    }
   },
   "outputs": [],
   "source": [
    "doc = nlp(text)"
   ]
  },
  {
   "cell_type": "code",
   "execution_count": 32,
   "id": "c947acf3",
   "metadata": {
    "pycharm": {
     "name": "#%%\n"
    }
   },
   "outputs": [
    {
     "data": {
      "text/html": [
       "<span class=\"tex2jax_ignore\"><svg xmlns=\"http://www.w3.org/2000/svg\" xmlns:xlink=\"http://www.w3.org/1999/xlink\" xml:lang=\"en\" id=\"a669e9f36201401bac11c7f83471fce5-0\" class=\"displacy\" width=\"3550\" height=\"312.0\" direction=\"ltr\" style=\"max-width: none; height: 312.0px; color: #000000; background: #ffffff; font-family: Arial; direction: ltr\">\n",
       "<text class=\"displacy-token\" fill=\"currentColor\" text-anchor=\"middle\" y=\"222.0\">\n",
       "    <tspan class=\"displacy-word\" fill=\"currentColor\" x=\"50\">Patient</tspan>\n",
       "    <tspan class=\"displacy-tag\" dy=\"2em\" fill=\"currentColor\" x=\"50\"></tspan>\n",
       "</text>\n",
       "\n",
       "<text class=\"displacy-token\" fill=\"currentColor\" text-anchor=\"middle\" y=\"222.0\">\n",
       "    <tspan class=\"displacy-word\" fill=\"currentColor\" x=\"225\">with</tspan>\n",
       "    <tspan class=\"displacy-tag\" dy=\"2em\" fill=\"currentColor\" x=\"225\"></tspan>\n",
       "</text>\n",
       "\n",
       "<text class=\"displacy-token\" fill=\"currentColor\" text-anchor=\"middle\" y=\"222.0\">\n",
       "    <tspan class=\"displacy-word\" fill=\"currentColor\" x=\"400\">history</tspan>\n",
       "    <tspan class=\"displacy-tag\" dy=\"2em\" fill=\"currentColor\" x=\"400\">HISTORICAL</tspan>\n",
       "</text>\n",
       "\n",
       "<text class=\"displacy-token\" fill=\"currentColor\" text-anchor=\"middle\" y=\"222.0\">\n",
       "    <tspan class=\"displacy-word\" fill=\"currentColor\" x=\"575\">of</tspan>\n",
       "    <tspan class=\"displacy-tag\" dy=\"2em\" fill=\"currentColor\" x=\"575\"></tspan>\n",
       "</text>\n",
       "\n",
       "<text class=\"displacy-token\" fill=\"currentColor\" text-anchor=\"middle\" y=\"222.0\">\n",
       "    <tspan class=\"displacy-word\" fill=\"currentColor\" x=\"750\">Covid - 19</tspan>\n",
       "    <tspan class=\"displacy-tag\" dy=\"2em\" fill=\"currentColor\" x=\"750\">COVID</tspan>\n",
       "</text>\n",
       "\n",
       "<text class=\"displacy-token\" fill=\"currentColor\" text-anchor=\"middle\" y=\"222.0\">\n",
       "    <tspan class=\"displacy-word\" fill=\"currentColor\" x=\"925\">diagnosis</tspan>\n",
       "    <tspan class=\"displacy-tag\" dy=\"2em\" fill=\"currentColor\" x=\"925\"></tspan>\n",
       "</text>\n",
       "\n",
       "<text class=\"displacy-token\" fill=\"currentColor\" text-anchor=\"middle\" y=\"222.0\">\n",
       "    <tspan class=\"displacy-word\" fill=\"currentColor\" x=\"1100\">;</tspan>\n",
       "    <tspan class=\"displacy-tag\" dy=\"2em\" fill=\"currentColor\" x=\"1100\">TERMINATE</tspan>\n",
       "</text>\n",
       "\n",
       "<text class=\"displacy-token\" fill=\"currentColor\" text-anchor=\"middle\" y=\"222.0\">\n",
       "    <tspan class=\"displacy-word\" fill=\"currentColor\" x=\"1275\">presenting with</tspan>\n",
       "    <tspan class=\"displacy-tag\" dy=\"2em\" fill=\"currentColor\" x=\"1275\">CURRENT</tspan>\n",
       "</text>\n",
       "\n",
       "<text class=\"displacy-token\" fill=\"currentColor\" text-anchor=\"middle\" y=\"222.0\">\n",
       "    <tspan class=\"displacy-word\" fill=\"currentColor\" x=\"1450\">SOB</tspan>\n",
       "    <tspan class=\"displacy-tag\" dy=\"2em\" fill=\"currentColor\" x=\"1450\">SYMPTOM</tspan>\n",
       "</text>\n",
       "\n",
       "<text class=\"displacy-token\" fill=\"currentColor\" text-anchor=\"middle\" y=\"222.0\">\n",
       "    <tspan class=\"displacy-word\" fill=\"currentColor\" x=\"1625\">.</tspan>\n",
       "    <tspan class=\"displacy-tag\" dy=\"2em\" fill=\"currentColor\" x=\"1625\"></tspan>\n",
       "</text>\n",
       "\n",
       "<text class=\"displacy-token\" fill=\"currentColor\" text-anchor=\"middle\" y=\"222.0\">\n",
       "    <tspan class=\"displacy-word\" fill=\"currentColor\" x=\"1800\">Chest</tspan>\n",
       "    <tspan class=\"displacy-tag\" dy=\"2em\" fill=\"currentColor\" x=\"1800\"></tspan>\n",
       "</text>\n",
       "\n",
       "<text class=\"displacy-token\" fill=\"currentColor\" text-anchor=\"middle\" y=\"222.0\">\n",
       "    <tspan class=\"displacy-word\" fill=\"currentColor\" x=\"1975\">image</tspan>\n",
       "    <tspan class=\"displacy-tag\" dy=\"2em\" fill=\"currentColor\" x=\"1975\"></tspan>\n",
       "</text>\n",
       "\n",
       "<text class=\"displacy-token\" fill=\"currentColor\" text-anchor=\"middle\" y=\"222.0\">\n",
       "    <tspan class=\"displacy-word\" fill=\"currentColor\" x=\"2150\">shows</tspan>\n",
       "    <tspan class=\"displacy-tag\" dy=\"2em\" fill=\"currentColor\" x=\"2150\"></tspan>\n",
       "</text>\n",
       "\n",
       "<text class=\"displacy-token\" fill=\"currentColor\" text-anchor=\"middle\" y=\"222.0\">\n",
       "    <tspan class=\"displacy-word\" fill=\"currentColor\" x=\"2325\">no</tspan>\n",
       "    <tspan class=\"displacy-tag\" dy=\"2em\" fill=\"currentColor\" x=\"2325\">NEGATED_EXISTENCE</tspan>\n",
       "</text>\n",
       "\n",
       "<text class=\"displacy-token\" fill=\"currentColor\" text-anchor=\"middle\" y=\"222.0\">\n",
       "    <tspan class=\"displacy-word\" fill=\"currentColor\" x=\"2500\">ground glass opacities</tspan>\n",
       "    <tspan class=\"displacy-tag\" dy=\"2em\" fill=\"currentColor\" x=\"2500\">PNEUMONIA</tspan>\n",
       "</text>\n",
       "\n",
       "<text class=\"displacy-token\" fill=\"currentColor\" text-anchor=\"middle\" y=\"222.0\">\n",
       "    <tspan class=\"displacy-word\" fill=\"currentColor\" x=\"2675\">or</tspan>\n",
       "    <tspan class=\"displacy-tag\" dy=\"2em\" fill=\"currentColor\" x=\"2675\"></tspan>\n",
       "</text>\n",
       "\n",
       "<text class=\"displacy-token\" fill=\"currentColor\" text-anchor=\"middle\" y=\"222.0\">\n",
       "    <tspan class=\"displacy-word\" fill=\"currentColor\" x=\"2850\">evidence</tspan>\n",
       "    <tspan class=\"displacy-tag\" dy=\"2em\" fill=\"currentColor\" x=\"2850\"></tspan>\n",
       "</text>\n",
       "\n",
       "<text class=\"displacy-token\" fill=\"currentColor\" text-anchor=\"middle\" y=\"222.0\">\n",
       "    <tspan class=\"displacy-word\" fill=\"currentColor\" x=\"3025\">of</tspan>\n",
       "    <tspan class=\"displacy-tag\" dy=\"2em\" fill=\"currentColor\" x=\"3025\"></tspan>\n",
       "</text>\n",
       "\n",
       "<text class=\"displacy-token\" fill=\"currentColor\" text-anchor=\"middle\" y=\"222.0\">\n",
       "    <tspan class=\"displacy-word\" fill=\"currentColor\" x=\"3200\">pneumonia</tspan>\n",
       "    <tspan class=\"displacy-tag\" dy=\"2em\" fill=\"currentColor\" x=\"3200\">PNEUMONIA</tspan>\n",
       "</text>\n",
       "\n",
       "<text class=\"displacy-token\" fill=\"currentColor\" text-anchor=\"middle\" y=\"222.0\">\n",
       "    <tspan class=\"displacy-word\" fill=\"currentColor\" x=\"3375\">.</tspan>\n",
       "    <tspan class=\"displacy-tag\" dy=\"2em\" fill=\"currentColor\" x=\"3375\"></tspan>\n",
       "</text>\n",
       "\n",
       "<g class=\"displacy-arrow\">\n",
       "    <path class=\"displacy-arc\" id=\"arrow-a669e9f36201401bac11c7f83471fce5-0-0\" stroke-width=\"2px\" d=\"M420,177.0 C420,89.5 745.0,89.5 745.0,177.0\" fill=\"none\" stroke=\"currentColor\"/>\n",
       "    <text dy=\"1.25em\" style=\"font-size: 0.8em; letter-spacing: 1px\">\n",
       "        <textPath xlink:href=\"#arrow-a669e9f36201401bac11c7f83471fce5-0-0\" class=\"displacy-label\" startOffset=\"50%\" side=\"left\" fill=\"currentColor\" text-anchor=\"middle\">HISTORICAL</textPath>\n",
       "    </text>\n",
       "    <path class=\"displacy-arrowhead\" d=\"M745.0,179.0 L753.0,167.0 737.0,167.0\" fill=\"currentColor\"/>\n",
       "</g>\n",
       "\n",
       "<g class=\"displacy-arrow\">\n",
       "    <path class=\"displacy-arc\" id=\"arrow-a669e9f36201401bac11c7f83471fce5-0-1\" stroke-width=\"2px\" d=\"M1295,177.0 C1295,89.5 1445.0,89.5 1445.0,177.0\" fill=\"none\" stroke=\"currentColor\"/>\n",
       "    <text dy=\"1.25em\" style=\"font-size: 0.8em; letter-spacing: 1px\">\n",
       "        <textPath xlink:href=\"#arrow-a669e9f36201401bac11c7f83471fce5-0-1\" class=\"displacy-label\" startOffset=\"50%\" side=\"left\" fill=\"currentColor\" text-anchor=\"middle\">CURRENT</textPath>\n",
       "    </text>\n",
       "    <path class=\"displacy-arrowhead\" d=\"M1445.0,179.0 L1453.0,167.0 1437.0,167.0\" fill=\"currentColor\"/>\n",
       "</g>\n",
       "\n",
       "<g class=\"displacy-arrow\">\n",
       "    <path class=\"displacy-arc\" id=\"arrow-a669e9f36201401bac11c7f83471fce5-0-2\" stroke-width=\"2px\" d=\"M2345,177.0 C2345,89.5 2495.0,89.5 2495.0,177.0\" fill=\"none\" stroke=\"currentColor\"/>\n",
       "    <text dy=\"1.25em\" style=\"font-size: 0.8em; letter-spacing: 1px\">\n",
       "        <textPath xlink:href=\"#arrow-a669e9f36201401bac11c7f83471fce5-0-2\" class=\"displacy-label\" startOffset=\"50%\" side=\"left\" fill=\"currentColor\" text-anchor=\"middle\">NEGATED_EXISTENCE</textPath>\n",
       "    </text>\n",
       "    <path class=\"displacy-arrowhead\" d=\"M2495.0,179.0 L2503.0,167.0 2487.0,167.0\" fill=\"currentColor\"/>\n",
       "</g>\n",
       "\n",
       "<g class=\"displacy-arrow\">\n",
       "    <path class=\"displacy-arc\" id=\"arrow-a669e9f36201401bac11c7f83471fce5-0-3\" stroke-width=\"2px\" d=\"M2345,177.0 C2345,2.0 3200.0,2.0 3200.0,177.0\" fill=\"none\" stroke=\"currentColor\"/>\n",
       "    <text dy=\"1.25em\" style=\"font-size: 0.8em; letter-spacing: 1px\">\n",
       "        <textPath xlink:href=\"#arrow-a669e9f36201401bac11c7f83471fce5-0-3\" class=\"displacy-label\" startOffset=\"50%\" side=\"left\" fill=\"currentColor\" text-anchor=\"middle\">NEGATED_EXISTENCE</textPath>\n",
       "    </text>\n",
       "    <path class=\"displacy-arrowhead\" d=\"M3200.0,179.0 L3208.0,167.0 3192.0,167.0\" fill=\"currentColor\"/>\n",
       "</g>\n",
       "</svg></span>"
      ],
      "text/plain": [
       "<IPython.core.display.HTML object>"
      ]
     },
     "metadata": {},
     "output_type": "display_data"
    }
   ],
   "source": [
    "visualize_dep(doc)"
   ]
  },
  {
   "cell_type": "markdown",
   "id": "890db76e",
   "metadata": {
    "pycharm": {
     "name": "#%% md\n"
    }
   },
   "source": [
    "In addition to visualizing the algorithm, medspaCy will set attributes like `is_negated` and `is_historical` to each entity."
   ]
  },
  {
   "cell_type": "code",
   "execution_count": 33,
   "id": "f73e32ef",
   "metadata": {
    "pycharm": {
     "name": "#%%\n"
    }
   },
   "outputs": [
    {
     "name": "stdout",
     "output_type": "stream",
     "text": [
      "Covid-19\n",
      "Negated: False\n",
      "Historical: True\n",
      "Uncertain: False\n",
      "\n",
      "SOB\n",
      "Negated: False\n",
      "Historical: False\n",
      "Uncertain: False\n",
      "\n",
      "ground glass opacities\n",
      "Negated: True\n",
      "Historical: False\n",
      "Uncertain: False\n",
      "\n",
      "pneumonia\n",
      "Negated: True\n",
      "Historical: False\n",
      "Uncertain: False\n",
      "\n"
     ]
    }
   ],
   "source": [
    "for ent in doc.ents:\n",
    "    print(ent)\n",
    "    print(\"Negated:\", ent._.is_negated)\n",
    "    print(\"Historical:\", ent._.is_historical)\n",
    "    print(\"Uncertain:\", ent._.is_uncertain)\n",
    "    print()"
   ]
  },
  {
   "cell_type": "code",
   "execution_count": null,
   "id": "8364a911",
   "metadata": {
    "pycharm": {
     "name": "#%%\n"
    }
   },
   "outputs": [],
   "source": []
  },
  {
   "cell_type": "markdown",
   "id": "35878ae1",
   "metadata": {
    "pycharm": {
     "name": "#%% md\n"
    }
   },
   "source": [
    "## Section detection\n",
    "In addition to looking for linguistic modifiers, the structure of a note indicates a patient's disease status. medspaCy offers the `Sectionizer` component for identifying different sections, like the **past medical history**, in a note. The sectionizer isn't loaded with the default pipeline, so we'll need to add it using `nlp.add_pipe()`:"
   ]
  },
  {
   "cell_type": "code",
   "execution_count": 34,
   "id": "f05ad95b",
   "metadata": {
    "pycharm": {
     "name": "#%%\n"
    }
   },
   "outputs": [],
   "source": [
    "sectionizer = nlp.add_pipe(\"medspacy_sectionizer\")"
   ]
  },
  {
   "cell_type": "code",
   "execution_count": 35,
   "id": "9364a46a",
   "metadata": {
    "pycharm": {
     "name": "#%%\n"
    }
   },
   "outputs": [],
   "source": [
    "text2 = \"\"\"\n",
    "Past Medical History: Covid-19\n",
    "\n",
    "HPI: Patient presents with SOB.\n",
    "\n",
    "Medical decision making: Order chest xray to rule out pneumonia.\n",
    "\"\"\""
   ]
  },
  {
   "cell_type": "code",
   "execution_count": 36,
   "id": "c0adaaa9",
   "metadata": {
    "pycharm": {
     "name": "#%%\n"
    }
   },
   "outputs": [],
   "source": [
    "doc2 = nlp(text2)"
   ]
  },
  {
   "cell_type": "markdown",
   "id": "630a39cb",
   "metadata": {
    "pycharm": {
     "name": "#%% md\n"
    }
   },
   "source": [
    "When we visualize the document, we can see section headers are highlighted in gray."
   ]
  },
  {
   "cell_type": "code",
   "execution_count": 37,
   "id": "3ba97ed5",
   "metadata": {
    "pycharm": {
     "name": "#%%\n"
    }
   },
   "outputs": [
    {
     "data": {
      "text/html": [
       "<span class=\"tex2jax_ignore\"><div class=\"entities\" style=\"line-height: 2.5; direction: ltr\"></br>\n",
       "<mark class=\"entity\" style=\"background: #1f77b4; padding: 0.45em 0.6em; margin: 0 0.25em; line-height: 1; border-radius: 0.35em;\">\n",
       "    Past Medical History\n",
       "    <span style=\"font-size: 0.8em; font-weight: bold; line-height: 1; border-radius: 0.35em; vertical-align: middle; margin-left: 0.5rem\">HISTORICAL</span>\n",
       "</mark>\n",
       "\n",
       "<mark class=\"entity\" style=\"background: #dee0e3; padding: 0.45em 0.6em; margin: 0 0.25em; line-height: 1; border-radius: 0.35em;\">\n",
       "    Past Medical History:\n",
       "    <span style=\"font-size: 0.8em; font-weight: bold; line-height: 1; border-radius: 0.35em; vertical-align: middle; margin-left: 0.5rem\"><< PAST_MEDICAL_HISTORY >></span>\n",
       "</mark>\n",
       " \n",
       "<mark class=\"entity\" style=\"background: #ff7f0e; padding: 0.45em 0.6em; margin: 0 0.25em; line-height: 1; border-radius: 0.35em;\">\n",
       "    Covid-19\n",
       "    <span style=\"font-size: 0.8em; font-weight: bold; line-height: 1; border-radius: 0.35em; vertical-align: middle; margin-left: 0.5rem\">COVID</span>\n",
       "</mark>\n",
       "</br></br>\n",
       "<mark class=\"entity\" style=\"background: #dee0e3; padding: 0.45em 0.6em; margin: 0 0.25em; line-height: 1; border-radius: 0.35em;\">\n",
       "    HPI:\n",
       "    <span style=\"font-size: 0.8em; font-weight: bold; line-height: 1; border-radius: 0.35em; vertical-align: middle; margin-left: 0.5rem\"><< HISTORY_OF_PRESENT_ILLNESS >></span>\n",
       "</mark>\n",
       " Patient presents with \n",
       "<mark class=\"entity\" style=\"background: #2ca02c; padding: 0.45em 0.6em; margin: 0 0.25em; line-height: 1; border-radius: 0.35em;\">\n",
       "    SOB\n",
       "    <span style=\"font-size: 0.8em; font-weight: bold; line-height: 1; border-radius: 0.35em; vertical-align: middle; margin-left: 0.5rem\">SYMPTOM</span>\n",
       "</mark>\n",
       ".</br></br>Medical decision making: Order chest xray to \n",
       "<mark class=\"entity\" style=\"background: #9467bd; padding: 0.45em 0.6em; margin: 0 0.25em; line-height: 1; border-radius: 0.35em;\">\n",
       "    rule out\n",
       "    <span style=\"font-size: 0.8em; font-weight: bold; line-height: 1; border-radius: 0.35em; vertical-align: middle; margin-left: 0.5rem\">POSSIBLE_EXISTENCE</span>\n",
       "</mark>\n",
       " \n",
       "<mark class=\"entity\" style=\"background: #d62728; padding: 0.45em 0.6em; margin: 0 0.25em; line-height: 1; border-radius: 0.35em;\">\n",
       "    pneumonia\n",
       "    <span style=\"font-size: 0.8em; font-weight: bold; line-height: 1; border-radius: 0.35em; vertical-align: middle; margin-left: 0.5rem\">PNEUMONIA</span>\n",
       "</mark>\n",
       ".</br></div></span>"
      ],
      "text/plain": [
       "<IPython.core.display.HTML object>"
      ]
     },
     "metadata": {},
     "output_type": "display_data"
    }
   ],
   "source": [
    "visualize_ent(doc2)"
   ]
  },
  {
   "cell_type": "markdown",
   "id": "2480fdc2",
   "metadata": {
    "pycharm": {
     "name": "#%% md\n"
    }
   },
   "source": [
    "Section headers vary between different types of notes and institutions, so this component will typically need customization. Right now, the section header `medical decision making` wasn't extracted, so we'll add a `SectionRule` to match it:"
   ]
  },
  {
   "cell_type": "code",
   "execution_count": 38,
   "id": "8b38446d",
   "metadata": {
    "pycharm": {
     "name": "#%%\n"
    }
   },
   "outputs": [],
   "source": [
    "from medspacy.section_detection import SectionRule\n",
    "section_rule = SectionRule(\"medical decision making:\", \"medical_decision_making\")\n",
    "sectionizer.add(section_rule)"
   ]
  },
  {
   "cell_type": "code",
   "execution_count": 39,
   "id": "a02f48c5",
   "metadata": {
    "pycharm": {
     "name": "#%%\n"
    }
   },
   "outputs": [
    {
     "data": {
      "text/html": [
       "<span class=\"tex2jax_ignore\"><div class=\"entities\" style=\"line-height: 2.5; direction: ltr\"></br>\n",
       "<mark class=\"entity\" style=\"background: #1f77b4; padding: 0.45em 0.6em; margin: 0 0.25em; line-height: 1; border-radius: 0.35em;\">\n",
       "    Past Medical History\n",
       "    <span style=\"font-size: 0.8em; font-weight: bold; line-height: 1; border-radius: 0.35em; vertical-align: middle; margin-left: 0.5rem\">HISTORICAL</span>\n",
       "</mark>\n",
       "\n",
       "<mark class=\"entity\" style=\"background: #dee0e3; padding: 0.45em 0.6em; margin: 0 0.25em; line-height: 1; border-radius: 0.35em;\">\n",
       "    Past Medical History:\n",
       "    <span style=\"font-size: 0.8em; font-weight: bold; line-height: 1; border-radius: 0.35em; vertical-align: middle; margin-left: 0.5rem\"><< PAST_MEDICAL_HISTORY >></span>\n",
       "</mark>\n",
       " \n",
       "<mark class=\"entity\" style=\"background: #ff7f0e; padding: 0.45em 0.6em; margin: 0 0.25em; line-height: 1; border-radius: 0.35em;\">\n",
       "    Covid-19\n",
       "    <span style=\"font-size: 0.8em; font-weight: bold; line-height: 1; border-radius: 0.35em; vertical-align: middle; margin-left: 0.5rem\">COVID</span>\n",
       "</mark>\n",
       "</br></br>\n",
       "<mark class=\"entity\" style=\"background: #dee0e3; padding: 0.45em 0.6em; margin: 0 0.25em; line-height: 1; border-radius: 0.35em;\">\n",
       "    HPI:\n",
       "    <span style=\"font-size: 0.8em; font-weight: bold; line-height: 1; border-radius: 0.35em; vertical-align: middle; margin-left: 0.5rem\"><< HISTORY_OF_PRESENT_ILLNESS >></span>\n",
       "</mark>\n",
       " Patient presents with \n",
       "<mark class=\"entity\" style=\"background: #2ca02c; padding: 0.45em 0.6em; margin: 0 0.25em; line-height: 1; border-radius: 0.35em;\">\n",
       "    SOB\n",
       "    <span style=\"font-size: 0.8em; font-weight: bold; line-height: 1; border-radius: 0.35em; vertical-align: middle; margin-left: 0.5rem\">SYMPTOM</span>\n",
       "</mark>\n",
       ".</br></br>\n",
       "<mark class=\"entity\" style=\"background: #dee0e3; padding: 0.45em 0.6em; margin: 0 0.25em; line-height: 1; border-radius: 0.35em;\">\n",
       "    Medical decision making:\n",
       "    <span style=\"font-size: 0.8em; font-weight: bold; line-height: 1; border-radius: 0.35em; vertical-align: middle; margin-left: 0.5rem\"><< MEDICAL_DECISION_MAKING >></span>\n",
       "</mark>\n",
       " Order chest xray to \n",
       "<mark class=\"entity\" style=\"background: #9467bd; padding: 0.45em 0.6em; margin: 0 0.25em; line-height: 1; border-radius: 0.35em;\">\n",
       "    rule out\n",
       "    <span style=\"font-size: 0.8em; font-weight: bold; line-height: 1; border-radius: 0.35em; vertical-align: middle; margin-left: 0.5rem\">POSSIBLE_EXISTENCE</span>\n",
       "</mark>\n",
       " \n",
       "<mark class=\"entity\" style=\"background: #d62728; padding: 0.45em 0.6em; margin: 0 0.25em; line-height: 1; border-radius: 0.35em;\">\n",
       "    pneumonia\n",
       "    <span style=\"font-size: 0.8em; font-weight: bold; line-height: 1; border-radius: 0.35em; vertical-align: middle; margin-left: 0.5rem\">PNEUMONIA</span>\n",
       "</mark>\n",
       ".</br></div></span>"
      ],
      "text/plain": [
       "<IPython.core.display.HTML object>"
      ]
     },
     "metadata": {},
     "output_type": "display_data"
    }
   ],
   "source": [
    "doc2 = nlp(text2)\n",
    "visualize_ent(doc2)"
   ]
  },
  {
   "cell_type": "markdown",
   "id": "95998cdf",
   "metadata": {
    "pycharm": {
     "name": "#%% md\n"
    }
   },
   "source": [
    "We can see which section an entity occurred in with the `section_category` attribute:"
   ]
  },
  {
   "cell_type": "code",
   "execution_count": 40,
   "id": "74fc7a9e",
   "metadata": {
    "pycharm": {
     "name": "#%%\n"
    }
   },
   "outputs": [
    {
     "name": "stdout",
     "output_type": "stream",
     "text": [
      "Covid-19\n",
      "past_medical_history\n",
      "\n",
      "SOB\n",
      "history_of_present_illness\n",
      "\n",
      "pneumonia\n",
      "medical_decision_making\n",
      "\n"
     ]
    }
   ],
   "source": [
    "for ent in doc2.ents:\n",
    "    print(ent)\n",
    "    print(ent._.section_category)\n",
    "    print()"
   ]
  },
  {
   "cell_type": "code",
   "execution_count": null,
   "id": "06449144",
   "metadata": {
    "pycharm": {
     "name": "#%%\n"
    }
   },
   "outputs": [],
   "source": []
  },
  {
   "cell_type": "markdown",
   "id": "3ba7e1b2",
   "metadata": {
    "pycharm": {
     "name": "#%% md\n"
    }
   },
   "source": [
    "# 5. Output\n",
    "Finally, medspaCy offers functionality for writing the output of NLP systems to databases or flat files. We can use the `DocConsumer` component and `pandas` library to create a DataFrame from our two examples"
   ]
  },
  {
   "cell_type": "code",
   "execution_count": 41,
   "id": "656adac3",
   "metadata": {
    "pycharm": {
     "name": "#%%\n"
    }
   },
   "outputs": [],
   "source": [
    "doc_consumer = nlp.add_pipe(\"medspacy_doc_consumer\", config={\"dtypes\": [\"ents\", \"context\", \"section\"]})"
   ]
  },
  {
   "cell_type": "code",
   "execution_count": 42,
   "id": "b4f93b1f",
   "metadata": {
    "pycharm": {
     "name": "#%%\n"
    }
   },
   "outputs": [],
   "source": [
    "doc2 = nlp(text2)"
   ]
  },
  {
   "cell_type": "code",
   "execution_count": 43,
   "id": "9641d326",
   "metadata": {
    "scrolled": true,
    "pycharm": {
     "name": "#%%\n"
    }
   },
   "outputs": [
    {
     "name": "stdout",
     "output_type": "stream",
     "text": [
      "Requirement already satisfied: pandas in /Users/alecchapman/opt/miniconda3/envs/medinfo2023/lib/python3.9/site-packages (2.0.2)\n",
      "Requirement already satisfied: python-dateutil>=2.8.2 in /Users/alecchapman/opt/miniconda3/envs/medinfo2023/lib/python3.9/site-packages (from pandas) (2.8.2)\n",
      "Requirement already satisfied: pytz>=2020.1 in /Users/alecchapman/opt/miniconda3/envs/medinfo2023/lib/python3.9/site-packages (from pandas) (2023.3)\n",
      "Requirement already satisfied: tzdata>=2022.1 in /Users/alecchapman/opt/miniconda3/envs/medinfo2023/lib/python3.9/site-packages (from pandas) (2023.3)\n",
      "Requirement already satisfied: numpy>=1.20.3 in /Users/alecchapman/opt/miniconda3/envs/medinfo2023/lib/python3.9/site-packages (from pandas) (1.25.0)\n",
      "Requirement already satisfied: six>=1.5 in /Users/alecchapman/opt/miniconda3/envs/medinfo2023/lib/python3.9/site-packages (from python-dateutil>=2.8.2->pandas) (1.16.0)\n"
     ]
    }
   ],
   "source": [
    "!pip install pandas"
   ]
  },
  {
   "cell_type": "code",
   "execution_count": 44,
   "id": "85298146",
   "metadata": {
    "pycharm": {
     "name": "#%%\n"
    }
   },
   "outputs": [
    {
     "data": {
      "text/html": [
       "<div>\n",
       "<style scoped>\n",
       "    .dataframe tbody tr th:only-of-type {\n",
       "        vertical-align: middle;\n",
       "    }\n",
       "\n",
       "    .dataframe tbody tr th {\n",
       "        vertical-align: top;\n",
       "    }\n",
       "\n",
       "    .dataframe thead th {\n",
       "        text-align: right;\n",
       "    }\n",
       "</style>\n",
       "<table border=\"1\" class=\"dataframe\">\n",
       "  <thead>\n",
       "    <tr style=\"text-align: right;\">\n",
       "      <th></th>\n",
       "      <th>text</th>\n",
       "      <th>start_char</th>\n",
       "      <th>end_char</th>\n",
       "      <th>label_</th>\n",
       "      <th>is_negated</th>\n",
       "      <th>is_uncertain</th>\n",
       "      <th>is_historical</th>\n",
       "      <th>is_hypothetical</th>\n",
       "      <th>is_family</th>\n",
       "      <th>section_category</th>\n",
       "      <th>section_parent</th>\n",
       "    </tr>\n",
       "  </thead>\n",
       "  <tbody>\n",
       "    <tr>\n",
       "      <th>0</th>\n",
       "      <td>Covid-19</td>\n",
       "      <td>23</td>\n",
       "      <td>31</td>\n",
       "      <td>COVID</td>\n",
       "      <td>False</td>\n",
       "      <td>False</td>\n",
       "      <td>True</td>\n",
       "      <td>False</td>\n",
       "      <td>False</td>\n",
       "      <td>past_medical_history</td>\n",
       "      <td>None</td>\n",
       "    </tr>\n",
       "    <tr>\n",
       "      <th>1</th>\n",
       "      <td>SOB</td>\n",
       "      <td>60</td>\n",
       "      <td>63</td>\n",
       "      <td>SYMPTOM</td>\n",
       "      <td>False</td>\n",
       "      <td>False</td>\n",
       "      <td>False</td>\n",
       "      <td>False</td>\n",
       "      <td>False</td>\n",
       "      <td>history_of_present_illness</td>\n",
       "      <td>None</td>\n",
       "    </tr>\n",
       "    <tr>\n",
       "      <th>2</th>\n",
       "      <td>pneumonia</td>\n",
       "      <td>120</td>\n",
       "      <td>129</td>\n",
       "      <td>PNEUMONIA</td>\n",
       "      <td>False</td>\n",
       "      <td>True</td>\n",
       "      <td>False</td>\n",
       "      <td>False</td>\n",
       "      <td>False</td>\n",
       "      <td>medical_decision_making</td>\n",
       "      <td>None</td>\n",
       "    </tr>\n",
       "  </tbody>\n",
       "</table>\n",
       "</div>"
      ],
      "text/plain": [
       "        text  start_char  end_char     label_  is_negated  is_uncertain  \\\n",
       "0   Covid-19          23        31      COVID       False         False   \n",
       "1        SOB          60        63    SYMPTOM       False         False   \n",
       "2  pneumonia         120       129  PNEUMONIA       False          True   \n",
       "\n",
       "   is_historical  is_hypothetical  is_family            section_category  \\\n",
       "0           True            False      False        past_medical_history   \n",
       "1          False            False      False  history_of_present_illness   \n",
       "2          False            False      False     medical_decision_making   \n",
       "\n",
       "  section_parent  \n",
       "0           None  \n",
       "1           None  \n",
       "2           None  "
      ]
     },
     "execution_count": 44,
     "metadata": {},
     "output_type": "execute_result"
    }
   ],
   "source": [
    "doc2._.to_dataframe(\"ents\")"
   ]
  },
  {
   "cell_type": "code",
   "execution_count": 45,
   "id": "5e76f22f",
   "metadata": {
    "pycharm": {
     "name": "#%%\n"
    }
   },
   "outputs": [
    {
     "data": {
      "text/html": [
       "<div>\n",
       "<style scoped>\n",
       "    .dataframe tbody tr th:only-of-type {\n",
       "        vertical-align: middle;\n",
       "    }\n",
       "\n",
       "    .dataframe tbody tr th {\n",
       "        vertical-align: top;\n",
       "    }\n",
       "\n",
       "    .dataframe thead th {\n",
       "        text-align: right;\n",
       "    }\n",
       "</style>\n",
       "<table border=\"1\" class=\"dataframe\">\n",
       "  <thead>\n",
       "    <tr style=\"text-align: right;\">\n",
       "      <th></th>\n",
       "      <th>ent_text</th>\n",
       "      <th>ent_label_</th>\n",
       "      <th>ent_start_char</th>\n",
       "      <th>ent_end_char</th>\n",
       "      <th>modifier_text</th>\n",
       "      <th>modifier_category</th>\n",
       "      <th>modifier_direction</th>\n",
       "      <th>modifier_start_char</th>\n",
       "      <th>modifier_end_char</th>\n",
       "      <th>modifier_scope_start_char</th>\n",
       "      <th>modifier_scope_end_char</th>\n",
       "    </tr>\n",
       "  </thead>\n",
       "  <tbody>\n",
       "    <tr>\n",
       "      <th>0</th>\n",
       "      <td>Covid-19</td>\n",
       "      <td>COVID</td>\n",
       "      <td>23</td>\n",
       "      <td>31</td>\n",
       "      <td>Past Medical History</td>\n",
       "      <td>HISTORICAL</td>\n",
       "      <td>FORWARD</td>\n",
       "      <td>1</td>\n",
       "      <td>21</td>\n",
       "      <td>21</td>\n",
       "      <td>33</td>\n",
       "    </tr>\n",
       "    <tr>\n",
       "      <th>1</th>\n",
       "      <td>pneumonia</td>\n",
       "      <td>PNEUMONIA</td>\n",
       "      <td>120</td>\n",
       "      <td>129</td>\n",
       "      <td>rule out</td>\n",
       "      <td>POSSIBLE_EXISTENCE</td>\n",
       "      <td>FORWARD</td>\n",
       "      <td>111</td>\n",
       "      <td>119</td>\n",
       "      <td>120</td>\n",
       "      <td>131</td>\n",
       "    </tr>\n",
       "  </tbody>\n",
       "</table>\n",
       "</div>"
      ],
      "text/plain": [
       "    ent_text ent_label_  ent_start_char  ent_end_char         modifier_text  \\\n",
       "0   Covid-19      COVID              23            31  Past Medical History   \n",
       "1  pneumonia  PNEUMONIA             120           129              rule out   \n",
       "\n",
       "    modifier_category modifier_direction  modifier_start_char  \\\n",
       "0          HISTORICAL            FORWARD                    1   \n",
       "1  POSSIBLE_EXISTENCE            FORWARD                  111   \n",
       "\n",
       "   modifier_end_char  modifier_scope_start_char  modifier_scope_end_char  \n",
       "0                 21                         21                       33  \n",
       "1                119                        120                      131  "
      ]
     },
     "execution_count": 45,
     "metadata": {},
     "output_type": "execute_result"
    }
   ],
   "source": [
    "doc2._.to_dataframe(\"context\")"
   ]
  },
  {
   "cell_type": "code",
   "execution_count": 46,
   "id": "a4cba46a",
   "metadata": {
    "pycharm": {
     "name": "#%%\n"
    }
   },
   "outputs": [
    {
     "data": {
      "text/html": [
       "<div>\n",
       "<style scoped>\n",
       "    .dataframe tbody tr th:only-of-type {\n",
       "        vertical-align: middle;\n",
       "    }\n",
       "\n",
       "    .dataframe tbody tr th {\n",
       "        vertical-align: top;\n",
       "    }\n",
       "\n",
       "    .dataframe thead th {\n",
       "        text-align: right;\n",
       "    }\n",
       "</style>\n",
       "<table border=\"1\" class=\"dataframe\">\n",
       "  <thead>\n",
       "    <tr style=\"text-align: right;\">\n",
       "      <th></th>\n",
       "      <th>section_category</th>\n",
       "      <th>section_title_text</th>\n",
       "      <th>section_title_start_char</th>\n",
       "      <th>section_title_end_char</th>\n",
       "      <th>section_body</th>\n",
       "      <th>section_body_start_char</th>\n",
       "      <th>section_body_end_char</th>\n",
       "      <th>section_parent</th>\n",
       "    </tr>\n",
       "  </thead>\n",
       "  <tbody>\n",
       "    <tr>\n",
       "      <th>0</th>\n",
       "      <td>None</td>\n",
       "      <td>None</td>\n",
       "      <td>0</td>\n",
       "      <td>0</td>\n",
       "      <td>\\n</td>\n",
       "      <td>0</td>\n",
       "      <td>1</td>\n",
       "      <td>None</td>\n",
       "    </tr>\n",
       "    <tr>\n",
       "      <th>1</th>\n",
       "      <td>past_medical_history</td>\n",
       "      <td>Past Medical History:</td>\n",
       "      <td>1</td>\n",
       "      <td>22</td>\n",
       "      <td>Covid-19\\n\\n</td>\n",
       "      <td>23</td>\n",
       "      <td>33</td>\n",
       "      <td>None</td>\n",
       "    </tr>\n",
       "    <tr>\n",
       "      <th>2</th>\n",
       "      <td>history_of_present_illness</td>\n",
       "      <td>HPI:</td>\n",
       "      <td>33</td>\n",
       "      <td>37</td>\n",
       "      <td>Patient presents with SOB.\\n\\n</td>\n",
       "      <td>38</td>\n",
       "      <td>66</td>\n",
       "      <td>None</td>\n",
       "    </tr>\n",
       "    <tr>\n",
       "      <th>3</th>\n",
       "      <td>medical_decision_making</td>\n",
       "      <td>Medical decision making:</td>\n",
       "      <td>66</td>\n",
       "      <td>90</td>\n",
       "      <td>Order chest xray to rule out pneumonia.\\n</td>\n",
       "      <td>91</td>\n",
       "      <td>131</td>\n",
       "      <td>None</td>\n",
       "    </tr>\n",
       "  </tbody>\n",
       "</table>\n",
       "</div>"
      ],
      "text/plain": [
       "             section_category        section_title_text  \\\n",
       "0                        None                      None   \n",
       "1        past_medical_history     Past Medical History:   \n",
       "2  history_of_present_illness                      HPI:   \n",
       "3     medical_decision_making  Medical decision making:   \n",
       "\n",
       "   section_title_start_char  section_title_end_char  \\\n",
       "0                         0                       0   \n",
       "1                         1                      22   \n",
       "2                        33                      37   \n",
       "3                        66                      90   \n",
       "\n",
       "                                section_body  section_body_start_char  \\\n",
       "0                                         \\n                        0   \n",
       "1                               Covid-19\\n\\n                       23   \n",
       "2             Patient presents with SOB.\\n\\n                       38   \n",
       "3  Order chest xray to rule out pneumonia.\\n                       91   \n",
       "\n",
       "   section_body_end_char section_parent  \n",
       "0                      1           None  \n",
       "1                     33           None  \n",
       "2                     66           None  \n",
       "3                    131           None  "
      ]
     },
     "execution_count": 46,
     "metadata": {},
     "output_type": "execute_result"
    }
   ],
   "source": [
    "doc2._.to_dataframe(\"section\")"
   ]
  },
  {
   "cell_type": "code",
   "execution_count": null,
   "id": "a0cb5774",
   "metadata": {
    "pycharm": {
     "name": "#%%\n"
    }
   },
   "outputs": [],
   "source": []
  },
  {
   "cell_type": "markdown",
   "id": "0cfdf0e6",
   "metadata": {
    "pycharm": {
     "name": "#%% md\n"
    }
   },
   "source": [
    "# Next steps\n",
    "Here are some additional training materials for learning to use medspaCy.\n",
    "\n",
    "- [medspaCy documentation notebooks](https://github.com/medspacy/medspacy/tree/master/notebooks), including detailed examples of each component\n",
    "- [Melbourne COMP-90089](https://github.com/abchapman93/Melbourne_COMP90089_NLP): A short medspaCy NLP module offered by the University of Melbourne, including YouTube videos and Colab notebooks\n",
    "- [University of Utah PHS Data Science Workshop](https://github.com/abchapman93/PHS_Data_Science_2022): A week-long workshop offered by the University of Utah Department of Population Health Sciences"
   ]
  },
  {
   "cell_type": "code",
   "execution_count": null,
   "id": "70831005",
   "metadata": {
    "pycharm": {
     "name": "#%%\n"
    }
   },
   "outputs": [],
   "source": []
  }
 ],
 "metadata": {
  "kernelspec": {
   "display_name": "Python 3 (ipykernel)",
   "language": "python",
   "name": "python3"
  },
  "language_info": {
   "codemirror_mode": {
    "name": "ipython",
    "version": 3
   },
   "file_extension": ".py",
   "mimetype": "text/x-python",
   "name": "python",
   "nbconvert_exporter": "python",
   "pygments_lexer": "ipython3",
   "version": "3.9.16"
  }
 },
 "nbformat": 4,
 "nbformat_minor": 5
}